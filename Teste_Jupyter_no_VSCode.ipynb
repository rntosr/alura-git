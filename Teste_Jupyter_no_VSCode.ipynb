{
 "cells": [
  {
   "attachments": {},
   "cell_type": "markdown",
   "metadata": {},
   "source": [
    "##Teste do Jupyter Notebook no VSCode"
   ]
  },
  {
   "attachments": {},
   "cell_type": "markdown",
   "metadata": {},
   "source": [
    "# Testando o VSCode com o Jupyter Notebook\n",
    "### Algumas iterações e configurações\n",
    "### Instalação do BlackBox Ai para ajudar nos códigos\n",
    "### para usar o Black Box faça: //digite a pergunta? e enter"
   ]
  },
  {
   "cell_type": "code",
   "execution_count": 4,
   "metadata": {},
   "outputs": [],
   "source": [
    "a=32"
   ]
  },
  {
   "cell_type": "code",
   "execution_count": 5,
   "metadata": {},
   "outputs": [
    {
     "name": "stdout",
     "output_type": "stream",
     "text": [
      "32\n"
     ]
    }
   ],
   "source": [
    "print (a)"
   ]
  },
  {
   "attachments": {},
   "cell_type": "markdown",
   "metadata": {},
   "source": [
    "### Teste do código da mega sena"
   ]
  },
  {
   "attachments": {},
   "cell_type": "markdown",
   "metadata": {},
   "source": [
    "#### Criar aleatórios jogos da Mega Sena."
   ]
  },
  {
   "cell_type": "code",
   "execution_count": 14,
   "metadata": {},
   "outputs": [
    {
     "name": "stdout",
     "output_type": "stream",
     "text": [
      "Seus jogos da Mega Sena são:\n",
      "Jogo 1: [6, 9, 12, 18, 21, 33, 41, 46, 52, 54]\n",
      "Jogo 2: [5, 14, 16, 20, 30, 35, 36, 37, 46, 57]\n",
      "Jogo 3: [1, 4, 5, 6, 7, 36, 38, 42, 44, 47]\n",
      "Jogo 4: [4, 11, 18, 25, 31, 35, 37, 48, 55, 56]\n",
      "Jogo 5: [2, 4, 5, 7, 10, 13, 27, 32, 37, 41]\n"
     ]
    }
   ],
   "source": [
    "import random\n",
    "\n",
    "# Definindo as constantes\n",
    "NUMEROS_TOTAL = 60\n",
    "\n",
    "# Função para gerar um jogo aleatório\n",
    "def gerar_jogo(qtd_numeros):\n",
    "    numeros = random.sample(range(1, NUMEROS_TOTAL + 1), qtd_numeros)\n",
    "    return sorted(numeros)\n",
    "\n",
    "# Pergunta ao usuário sobre a quantidade de jogos e de números\n",
    "quantidade_jogos = int(input(\"Quantos jogos você gostaria de fazer? \"))\n",
    "qtd_numeros = int(input(\"Quantos números por jogo (mínimo 6)? \"))\n",
    "if qtd_numeros < 6:\n",
    "    qtd_numeros = 6\n",
    "\n",
    "# Simulação dos jogos da Mega Sena\n",
    "print(\"Seus jogos da Mega Sena são:\")\n",
    "for i in range(quantidade_jogos):\n",
    "    jogo = gerar_jogo(qtd_numeros)\n",
    "    print(\"Jogo {}: {}\".format(i+1, jogo))"
   ]
  },
  {
   "attachments": {},
   "cell_type": "markdown",
   "metadata": {},
   "source": [
    "#### Criar Jogos e calcular o valor da aposta"
   ]
  },
  {
   "cell_type": "code",
   "execution_count": 16,
   "metadata": {},
   "outputs": [
    {
     "name": "stdout",
     "output_type": "stream",
     "text": [
      "Seus jogos da Mega Sena são:\n",
      "Jogo 1: [9, 12, 16, 20, 24, 29, 41, 42, 48, 51] - Valor: R$ 945.00\n",
      "Jogo 2: [8, 10, 19, 20, 23, 31, 37, 52, 57, 60] - Valor: R$ 945.00\n",
      "Jogo 3: [5, 17, 31, 33, 36, 47, 48, 51, 52, 57] - Valor: R$ 945.00\n",
      "Jogo 4: [6, 7, 19, 24, 36, 40, 46, 47, 50, 54] - Valor: R$ 945.00\n",
      "Jogo 5: [8, 15, 17, 18, 25, 27, 33, 38, 43, 48] - Valor: R$ 945.00\n",
      "Total a pagar: R$ 4725.00\n"
     ]
    }
   ],
   "source": [
    "import random\n",
    "\n",
    "# Definindo as constantes\n",
    "NUMEROS_TOTAL = 60\n",
    "PRECO_JOGO = {6: 4.50, 7: 31.50, 8: 126.00, 9: 378.00, 10: 945.00, 11: 2079.00, 12: 4158.00, 13: 7722.00, 14: 13513.50, 15: 22522.50}\n",
    "\n",
    "# Função para gerar um jogo aleatório\n",
    "def gerar_jogo(qtd_numeros):\n",
    "    numeros = random.sample(range(1, NUMEROS_TOTAL + 1), qtd_numeros)\n",
    "    return sorted(numeros)\n",
    "\n",
    "# Pergunta ao usuário sobre a quantidade de jogos e de números\n",
    "quantidade_jogos = int(input(\"Quantos jogos você gostaria de fazer? \"))\n",
    "qtd_numeros = int(input(\"Quantos números por jogo (mínimo 6)? \"))\n",
    "if qtd_numeros < 6:\n",
    "    qtd_numeros = 6\n",
    "\n",
    "# Simulação dos jogos da Mega Sena\n",
    "print(\"Seus jogos da Mega Sena são:\")\n",
    "total_valor = 0\n",
    "for i in range(quantidade_jogos):\n",
    "    jogo = gerar_jogo(qtd_numeros)\n",
    "    valor_jogo = PRECO_JOGO[qtd_numeros]\n",
    "    total_valor += valor_jogo\n",
    "    print(\"Jogo {}: {} - Valor: R$ {:.2f}\".format(i+1, jogo, valor_jogo))\n",
    "\n",
    "print(\"Total a pagar: R$ {:.2f}\".format(total_valor))"
   ]
  },
  {
   "cell_type": "code",
   "execution_count": 13,
   "metadata": {},
   "outputs": [],
   "source": [
    "#para usar o BlacBox\n",
    "#Ele fica ativo no rodapé\n",
    "# //print in python?      "
   ]
  },
  {
   "cell_type": "code",
   "execution_count": null,
   "metadata": {},
   "outputs": [],
   "source": []
  }
 ],
 "metadata": {
  "kernelspec": {
   "display_name": "Python 3",
   "language": "python",
   "name": "python3"
  },
  "language_info": {
   "codemirror_mode": {
    "name": "ipython",
    "version": 3
   },
   "file_extension": ".py",
   "mimetype": "text/x-python",
   "name": "python",
   "nbconvert_exporter": "python",
   "pygments_lexer": "ipython3",
   "version": "3.9.13"
  },
  "orig_nbformat": 4,
  "vscode": {
   "interpreter": {
    "hash": "518f51304a96efb4d769182e34556daed75f82c9ecfc56dd25421d31fac933a9"
   }
  }
 },
 "nbformat": 4,
 "nbformat_minor": 2
}
