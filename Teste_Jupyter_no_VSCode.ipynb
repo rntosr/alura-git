{
 "cells": [
  {
   "attachments": {},
   "cell_type": "markdown",
   "metadata": {},
   "source": [
    "##Teste do Jupyter Notebook no VSCode"
   ]
  },
  {
   "cell_type": "code",
   "execution_count": 1,
   "metadata": {},
   "outputs": [],
   "source": [
    "a=32"
   ]
  },
  {
   "cell_type": "code",
   "execution_count": 3,
   "metadata": {},
   "outputs": [
    {
     "name": "stdout",
     "output_type": "stream",
     "text": [
      "32\n"
     ]
    }
   ],
   "source": [
    "print (a)"
   ]
  },
  {
   "cell_type": "code",
   "execution_count": 4,
   "metadata": {},
   "outputs": [],
   "source": [
    "import random\n",
    "\n",
    "# Definindo as constantes\n",
    "NUMEROS_TOTAL = 60\n",
    "\n",
    "# Função para gerar um jogo aleatório\n",
    "def gerar_jogo(qtd_numeros):\n",
    "    numeros = random.sample(range(1, NUMEROS_TOTAL + 1), qtd_numeros)\n",
    "    return sorted(numeros)\n",
    "\n",
    "# Pergunta ao usuário sobre a quantidade de jogos e de números\n",
    "quantidade_jogos = int(input(\"Quantos jogos você gostaria de fazer? \"))\n",
    "qtd_numeros = int(input(\"Quantos números por jogo (mínimo 6)? \"))\n",
    "if qtd_numeros < 6:\n",
    "    qtd_numeros = 6\n",
    "\n",
    "# Simulação dos jogos da Mega Sena\n",
    "print(\"Seus jogos da Mega Sena são:\")\n",
    "for i in range(quantidade_jogos):\n",
    "    jogo = gerar_jogo(qtd_numeros)\n",
    "    print(\"Jogo {}: {}\".format(i+1, jogo))"
   ]
  },
  {
   "cell_type": "code",
   "execution_count": 1,
   "metadata": {},
   "outputs": [],
   "source": [
    "import random\n",
    "\n",
    "# Definindo as constantes\n",
    "NUMEROS_TOTAL = 60"
   ]
  },
  {
   "cell_type": "code",
   "execution_count": 2,
   "metadata": {},
   "outputs": [],
   "source": [
    "# Função para gerar um jogo aleatório\n",
    "def gerar_jogo(qtd_numeros):\n",
    "    numeros = random.sample(range(1, NUMEROS_TOTAL + 1), qtd_numeros)\n",
    "    return sorted(numeros)"
   ]
  },
  {
   "cell_type": "code",
   "execution_count": 1,
   "metadata": {},
   "outputs": [],
   "source": [
    "# Pergunta ao usuário sobre a quantidade de jogos e de números\n",
    "quantidade_jogos = int(input(\"Quantos jogos você gostaria de fazer? \"))\n",
    "#qtd_numeros = int(input(\"Quantos números por jogo (mínimo 6)? \"))\n",
    "#if qtd_numeros < 6:\n",
    "#    qtd_numeros = 6"
   ]
  },
  {
   "cell_type": "code",
   "execution_count": 2,
   "metadata": {},
   "outputs": [],
   "source": [
    "input(\"olá\")"
   ]
  }
 ],
 "metadata": {
  "kernelspec": {
   "display_name": "Python 3",
   "language": "python",
   "name": "python3"
  },
  "language_info": {
   "codemirror_mode": {
    "name": "ipython",
    "version": 3
   },
   "file_extension": ".py",
   "mimetype": "text/x-python",
   "name": "python",
   "nbconvert_exporter": "python",
   "pygments_lexer": "ipython3",
   "version": "3.9.13"
  },
  "orig_nbformat": 4
 },
 "nbformat": 4,
 "nbformat_minor": 2
}
